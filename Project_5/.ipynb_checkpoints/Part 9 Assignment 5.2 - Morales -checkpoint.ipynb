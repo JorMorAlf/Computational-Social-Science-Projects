{
 "cells": [
  {
   "cell_type": "markdown",
   "id": "dd9422de",
   "metadata": {},
   "source": [
    "## Part 9 "
   ]
  },
  {
   "cell_type": "code",
   "execution_count": 3,
   "id": "afd834d0",
   "metadata": {},
   "outputs": [],
   "source": [
    "#Install if needed \n",
    "#!pip install transformers"
   ]
  },
  {
   "cell_type": "code",
   "execution_count": 4,
   "id": "fabc4d23",
   "metadata": {},
   "outputs": [
    {
     "name": "stderr",
     "output_type": "stream",
     "text": [
      "All PyTorch model weights were used when initializing TFGPT2LMHeadModel.\n",
      "\n",
      "All the weights of TFGPT2LMHeadModel were initialized from the PyTorch model.\n",
      "If your task is similar to the task the model of the checkpoint was trained on, you can already use TFGPT2LMHeadModel for predictions without further training.\n",
      "Setting `pad_token_id` to `eos_token_id`:50256 for open-end generation.\n"
     ]
    },
    {
     "name": "stdout",
     "output_type": "stream",
     "text": [
      "Can we predict party affiliation from politicians' tweets? A big question of this magnitude, and it should be part of our election strategy. All candidates should be prepared to do well in their respective party primaries. Our system has been the standard for more than a century; what's important is to keep it accurate, and to be able to match candidates'\n",
      "----\n",
      "Can we predict party affiliation from politicians' tweets?\n",
      "\n",
      "I don't want to waste political capital but maybe we've shown a willingness to use our electoral prowess to win?\n",
      "\n",
      "Is there a way you could use data to determine the outcome of a race for a city seat?\n",
      "\n",
      "In the Senate, you could look at the results of\n",
      "----\n",
      "Can we predict party affiliation from politicians' tweets? pic.twitter.com/RXwEU9xYxgF — Donald J. Trump (@realDonaldTrump) December 6, 2017\n",
      "\n",
      "So what has Donald Trump been up to lately?\n",
      "\n",
      "While no exact statistics have yet been announced to establish how likely that is, it's\n",
      "----\n",
      "Can we predict party affiliation from politicians' tweets?\n",
      "\n",
      "There appears to be a lot of confusion here. In particular, that the GOP can't just say, \"Well, Donald, you know, we have two options,\" doesn't mean it can't say, \"If you are a Trump supporter, we should make you a Trump surrogate.\"\n",
      "----\n",
      "Can we predict party affiliation from politicians' tweets? The answer to this is, of course, that candidates and politicians will do as they choose! The key to our prediction was that candidates do not need to tell us what would happen to the party in the next federal election. And we did it with this:\n",
      "\n",
      "I'll let you watch all\n",
      "----\n"
     ]
    }
   ],
   "source": [
    "from transformers import pipeline, set_seed\n",
    "\n",
    "generator = pipeline('text-generation', model='gpt2') \n",
    "\n",
    "set_seed(29)\n",
    "# my text input\n",
    "input_text = \"Can we predict party affiliation from politicians' tweets?\"\n",
    "#input_ids = tokenizer.encode(input_text, return_tensors='pt')\n",
    "\n",
    "output = generator(input_text, max_length=70, num_return_sequences=5) \n",
    "for result in output:\n",
    "    print(result['generated_text'])\n",
    "    print(\"----\")\n",
    "    \n",
    "    \n",
    "# Generate text\n",
    "#text_generator = pipeline('text-generation', model=model, tokenizer=tokenizer)\n",
    "#generated_text = text_generator(input_text, max_length=50, num_return_sequences=5)\n",
    "\n",
    "#print(generated_text[0]['generated_text'])\n"
   ]
  },
  {
   "cell_type": "markdown",
   "id": "ca329740",
   "metadata": {},
   "source": [
    "## Well this is fun, but not useful at all! "
   ]
  },
  {
   "cell_type": "code",
   "execution_count": null,
   "id": "2b49299f",
   "metadata": {},
   "outputs": [],
   "source": []
  }
 ],
 "metadata": {
  "kernelspec": {
   "display_name": "Python 3 (ipykernel)",
   "language": "python",
   "name": "python3"
  },
  "language_info": {
   "codemirror_mode": {
    "name": "ipython",
    "version": 3
   },
   "file_extension": ".py",
   "mimetype": "text/x-python",
   "name": "python",
   "nbconvert_exporter": "python",
   "pygments_lexer": "ipython3",
   "version": "3.11.5"
  }
 },
 "nbformat": 4,
 "nbformat_minor": 5
}
